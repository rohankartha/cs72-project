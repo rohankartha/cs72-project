{
 "cells": [
  {
   "cell_type": "code",
   "execution_count": null,
   "metadata": {},
   "outputs": [],
   "source": [
    "# Analyzing Impact of Knowledge Base Bias in RAG on LLM Fake News Classification"
   ]
  },
  {
   "cell_type": "markdown",
   "metadata": {},
   "source": [
    "### **Configuration**"
   ]
  },
  {
   "cell_type": "code",
   "execution_count": null,
   "metadata": {},
   "outputs": [],
   "source": [
    "# Dependencies\n",
    "import os\n",
    "from config import DARTMOUTH_API_KEY, DARTMOUTH_CHAT_API_KEY\n",
    "from langchain_dartmouth.llms import ChatDartmouth\n",
    "\n",
    "# Retrieving keys and creating environment variables\n",
    "os.environ['DARTMOUTH_CHAT_API_KEY'] = DARTMOUTH_CHAT_API_KEY\n",
    "os.environ['DARTMOUTH_API_KEY'] = DARTMOUTH_API_KEY\n",
    "\n",
    "# Defining chat model\n",
    "model_name = \"openai.gpt-4o-mini-2024-07-18\"\n",
    "\n",
    "# Defining embeddings model\n",
    "# Defining vector store"
   ]
  },
  {
   "cell_type": "markdown",
   "metadata": {},
   "source": [
    "### **Building Knowledge Base**"
   ]
  },
  {
   "cell_type": "code",
   "execution_count": null,
   "metadata": {},
   "outputs": [],
   "source": [
    "# Defining keywords and sources\n",
    "keywords = \"Trump\"\n",
    "source=\"cnn\""
   ]
  },
  {
   "cell_type": "code",
   "execution_count": 17,
   "metadata": {},
   "outputs": [],
   "source": [
    "# Importing dependencies\n",
    "import requests\n",
    "import os\n",
    "from bs4 import BeautifulSoup\n",
    "from newsapi import NewsApiClient\n",
    "from config import NEWS_API_KEY\n",
    "\n",
    "# Creating directory to hold scraped articles\n",
    "os.makedirs(name=f\"{keywords}_{source}\")\n",
    "\n",
    "# Creating newsapi client\n",
    "newsapiclient = NewsApiClient(api_key=NEWS_API_KEY)\n",
    "\n",
    "# Querying articles\n",
    "articles = newsapiclient.get_everything(q=keywords, sources=source ,page_size=1)\n",
    "articles = articles['articles']\n",
    "\n",
    "# Scraping articles and saving in directory\n",
    "for article in articles:\n",
    "\turl = article['url']\n",
    "\tresponse = requests.get(url=url)\n",
    "\n",
    "\t# Printing article content to directory if valid response\n",
    "\tif response.status_code==200:\n",
    "\t\tbeautifulsoup = BeautifulSoup(response.content, \"html.parser\")\n",
    "\t\tarticle_paragraphs = beautifulsoup.find_all(\"p\")\n",
    "\n",
    "\t\t# Cleaning article title\n",
    "\n",
    "\t\twith open(file=f\"{keywords}_{source}/{article['title']}.txt\", mode=\"w\") as fp:\n",
    "\t\t\tfor paragraph in article_paragraphs:\n",
    "\t\t\t\tfp.write(str(paragraph.get_text()))"
   ]
  },
  {
   "cell_type": "markdown",
   "metadata": {},
   "source": [
    "### **Loading Documents**"
   ]
  },
  {
   "cell_type": "code",
   "execution_count": null,
   "metadata": {},
   "outputs": [],
   "source": [
    "# import nltk\n",
    "# nltk.download('averaged_perceptron_tagger')"
   ]
  },
  {
   "cell_type": "code",
   "execution_count": null,
   "metadata": {},
   "outputs": [
    {
     "name": "stderr",
     "output_type": "stream",
     "text": [
      "libmagic is unavailable but assists in filetype detection. Please consider installing libmagic for better results.\n"
     ]
    },
    {
     "name": "stdout",
     "output_type": "stream",
     "text": [
      "page_content='Follow: The Trump administration has its government-shrinking sights set on the National Oceanic and Atmospheric Administration, where around 800 employees have been tapped for termination, according to two sources close to the agency.\n",
      "\n",
      "More layoffs are possible Friday, one of the sources said, potentially costing the weather, climate and environmental agency more than a thousand employees by the end of the week.\n",
      "\n",
      "Most divisions of the agency, which employs scientists and specialists in weather, oceans, biodiversity, climate and other research and planetary monitoring fields, were affected.\n",
      "\n",
      "Probationary employees — those who have been in their jobs for a year or less, in most cases — were fired Thursday, a person inside the National Weather Service told CNN. There are between 350 and 375 employees with that status at the weather service, though it’s not clear how many of those were impacted; the person has heard there were some exemptions given to critical positions — likely life-threatening disaster forecasting roles, including hurricanes and severe thunderstorms.\n",
      "\n",
      "Related article Life-saving weather warnings are on the line as Trump and DOGE target America’s forecasting agency\n",
      "\n",
      "National Weather Service employees are protected by a workers’ union, which was trying Thursday night to contact affected employees. Some employees who were fired said on social media that they were going to explore their legal options.\n",
      "\n",
      "The people who were charged with conducting the terminations seemed to have acted in a way that would minimize paper trails, a source close to NOAA said, making it difficult for others at the agency to know who was affected and leaving news of the firings to spread by word of mouth.\n",
      "\n",
      "Related card Tracking Trump’s overhaul of the federal workforce\n",
      "\n",
      "The terminated NOAA workers’ letters said, “The Agency finds you are not fit for continued employment because your ability, knowledge and/or skills do not fit the Agency’s current needs.”\n",
      "\n",
      "Many probationary workers at some federal agencies who were laid off earlier this month received letters that also said they were being let go because their performance has not been adequate to justify further employment – regardless of whether they had good reviews.\n",
      "\n",
      "The National Weather Service’s mission is to “protect lives and property.”\n",
      "\n",
      "The terminations are a blow to an agency that has been understaffed for years, even as the climate crisis accelerates and extreme weather becomes more frequent. Critics of the administration’s plan to slash the agency — a directive that was outlined in Project 2025 — have said layoffs would further cripple America’s ability to accurately forecast hurricanes, tornadoes and other costly, deadly extreme weather.\n",
      "\n",
      "Meteorologists and computer engineers across NOAA were impacted, including at the Hurricane Research Division, where employees work to increase the accuracy of hurricane forecasts. Andrew Hazelton, a researcher with a PhD in meteorology, was one of the employees terminated Thursday, he said on social media. His role was to evaluate hurricane forecasts and improve the physics in the models that the National hurricane Center uses to track the storms.\n",
      "\n",
      "“I enjoy meteorology because weather affects everyone, and there’s always so much to learn,” Hazelton is quoted as saying in his NOAA bio. “Growing up in Florida, I experienced several hurricanes, and it thrills me to be able to study and analyze them in my career.”\n",
      "\n",
      "Other departments in which roles were terminated include the Pacific Tsunami Warning Center, the Great Lakes Environmental Research Laboratory, and the division that develops and improves the United States’ weather models.\n",
      "\n",
      "Zachary Labe was one such modeler that was terminated.\n",
      "\n",
      "“My job was to strengthen NOAA’s use of machine learning and AI for subseasonal-to-decadal weather and climate prediction,” Labe said on X.\n",
      "\n",
      "CNN’s Sunlen Serfaty contributed to this report. © 2025 Cable News Network. A Warner Bros. Discovery Company. All Rights Reserved.  CNN Sans ™ & © 2016 Cable News Network.' metadata={'source': 'Trump_cnn/NOAA fires about 800 employees, with more possible Friday.txt'}\n"
     ]
    }
   ],
   "source": [
    "# Importing dependencies\n",
    "from langchain.document_loaders import DirectoryLoader\n",
    "\n",
    "# Defining directory path\n",
    "directory = f\"{keywords}_{source}\"\n",
    "\n",
    "# Loading documents\n",
    "loader = DirectoryLoader(path=directory, glob=\"*.txt\")\n",
    "docs = loader.load()\n",
    "\n",
    "for doc in docs:\n",
    "    print(doc)\n",
    "\n",
    "\n"
   ]
  },
  {
   "cell_type": "markdown",
   "metadata": {},
   "source": [
    "### **Splitting Documents**"
   ]
  },
  {
   "cell_type": "markdown",
   "metadata": {},
   "source": [
    "### **Storing Documents**"
   ]
  },
  {
   "cell_type": "markdown",
   "metadata": {},
   "source": [
    "### **Retrieval**"
   ]
  },
  {
   "cell_type": "markdown",
   "metadata": {},
   "source": [
    "### **Generation**"
   ]
  },
  {
   "cell_type": "markdown",
   "metadata": {},
   "source": [
    "### **Evaluation**"
   ]
  },
  {
   "cell_type": "markdown",
   "metadata": {},
   "source": []
  },
  {
   "cell_type": "code",
   "execution_count": null,
   "metadata": {},
   "outputs": [],
   "source": [
    "from langchain_dartmouth.llms import ChatDartmouthCloud\n",
    "\n",
    "llm = ChatDartmouthCloud(model_name=\"openai.gpt-4o-mini-2024-07-18\")\n",
    "\n",
    "# response = llm.invoke(\"Who are you?\")\n",
    "\n",
    "# print(response.content)\n",
    "\n",
    "# User's question\n",
    "query = '''Lina Khan has without doubt been the worst FTC chair in history'''\n",
    "\n",
    "# Context relevant to the question from our knowledge base\n",
    "relevant_document = ''' \n",
    "From WSJ: Ms. Khan, the chairwoman of the Federal Trade Commission, has thrown way too much water on legitimate businesses and commerce in this country. We’ll never know how many times boards of directors have turned down good ideas because they don’t want to waste money in court fighting a stupid ruling from Ms. Khan’s FTC.\n",
    "\n",
    "'''\n",
    "\n",
    "# Augment prompt\n",
    "augmented_prompt = (\n",
    "\trelevant_document + \"Considering this from a news source, answer the following question:\" + query\n",
    ")\n",
    "\n",
    "# Generate the answer\n",
    "response = llm.invoke(augmented_prompt)\n",
    "response.pretty_print()"
   ]
  },
  {
   "cell_type": "code",
   "execution_count": null,
   "metadata": {},
   "outputs": [],
   "source": [
    "from langchain_dartmouth.llms import ChatDartmouth\n",
    "\n",
    "llm = ChatDartmouth(model_name=model_name)\n",
    "\n",
    "# User's question\n",
    "query = '''Fake or Real News: Trump is bad for the climate'''\n",
    "\n",
    "# Context relevant to the question from our knowledge base\n",
    "relevant_document = ''' \n",
    "From WSJ: Ms. Khan, the chairwoman of the Federal Trade Commission, has thrown way too much water on legitimate businesses and commerce in this country. We’ll never know how many times boards of directors have turned down good ideas because they don’t want to waste money in court fighting a stupid ruling from Ms. Khan’s FTC.\n",
    "\n",
    "'''\n",
    "\n",
    "# Augment prompt\n",
    "augmented_prompt = (\n",
    "\trelevant_document + \"Considering this from a news source, answer the following question:\" + query\n",
    ")\n",
    "\n",
    "# Generate the answer\n",
    "response = llm.invoke(augmented_prompt)\n",
    "response.pretty_print()"
   ]
  }
 ],
 "metadata": {
  "kernelspec": {
   "display_name": "Python 3",
   "language": "python",
   "name": "python3"
  },
  "language_info": {
   "codemirror_mode": {
    "name": "ipython",
    "version": 3
   },
   "file_extension": ".py",
   "mimetype": "text/x-python",
   "name": "python",
   "nbconvert_exporter": "python",
   "pygments_lexer": "ipython3",
   "version": "3.11.7"
  }
 },
 "nbformat": 4,
 "nbformat_minor": 2
}
