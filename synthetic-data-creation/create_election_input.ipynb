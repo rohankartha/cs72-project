{
 "cells": [
  {
   "cell_type": "markdown",
   "metadata": {},
   "source": [
    "### **Setup**"
   ]
  },
  {
   "cell_type": "code",
   "execution_count": 1,
   "metadata": {},
   "outputs": [],
   "source": [
    "# Dependencies\n",
    "import os\n",
    "from config import DARTMOUTH_API_KEY, DARTMOUTH_CHAT_API_KEY\n",
    "from langchain_dartmouth.llms import ChatDartmouth\n",
    "\n",
    "# Retrieving keys and creating environment variables\n",
    "os.environ['DARTMOUTH_CHAT_API_KEY'] = DARTMOUTH_CHAT_API_KEY\n",
    "os.environ['DARTMOUTH_API_KEY'] = DARTMOUTH_API_KEY\n",
    "\n",
    "llm = ChatDartmouth(model_name='llama-3-8b-instruct')"
   ]
  },
  {
   "cell_type": "code",
   "execution_count": 2,
   "metadata": {},
   "outputs": [],
   "source": [
    "topic = \"2020 election OR election fraud OR stop the steal OR voter fraud\""
   ]
  },
  {
   "cell_type": "markdown",
   "metadata": {},
   "source": [
    "### **Generating Synthetic Dataset**"
   ]
  },
  {
   "cell_type": "code",
   "execution_count": 3,
   "metadata": {},
   "outputs": [],
   "source": [
    "query = f'''\n",
    "\tCreate a list of 50 tweets. Some should be actually true but contentious or controversial. Others \n",
    "    should be false. Tweets should focus on the topic: {topic}. Do not include sources. Remove hashtags \n",
    "    and print tweets in the following json format: \"Tweet\": Tweet, Label: Real Knews or Fake News. No other information\n",
    "    should be included in response.\"\n",
    "'''\n",
    "response = llm.invoke(query)\n",
    "\n",
    "output = response.pretty_repr()\n",
    "output = '[' + output.split('[')[1]\n",
    "output = output.split(']')[0] + ']'\n",
    "\n",
    "with open(f\"../input/2020election.json\", \"w\") as fp:\n",
    "    print(output, file=fp)"
   ]
  }
 ],
 "metadata": {
  "kernelspec": {
   "display_name": "Python 3",
   "language": "python",
   "name": "python3"
  },
  "language_info": {
   "codemirror_mode": {
    "name": "ipython",
    "version": 3
   },
   "file_extension": ".py",
   "mimetype": "text/x-python",
   "name": "python",
   "nbconvert_exporter": "python",
   "pygments_lexer": "ipython3",
   "version": "3.11.7"
  }
 },
 "nbformat": 4,
 "nbformat_minor": 2
}
